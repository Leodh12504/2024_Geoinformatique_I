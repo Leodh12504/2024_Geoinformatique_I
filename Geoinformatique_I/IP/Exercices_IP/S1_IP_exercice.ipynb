{
  "cells": [
    {
      "cell_type": "markdown",
      "metadata": {
        "id": "view-in-github",
        "colab_type": "text"
      },
      "source": [
        "<a href=\"https://colab.research.google.com/github/Leodh12504/2024_Geoinformatique_I/blob/main/Geoinformatique_I/IP/Exercices_IP/S1_IP_exercice.ipynb\" target=\"_parent\"><img src=\"https://colab.research.google.com/assets/colab-badge.svg\" alt=\"Open In Colab\"/></a>"
      ]
    },
    {
      "cell_type": "markdown",
      "metadata": {
        "id": "a4H9Gb41nLo-"
      },
      "source": [
        "## Exercice 1 - Introduction aux bases de la programmation"
      ]
    },
    {
      "cell_type": "markdown",
      "metadata": {
        "id": "G79m62HcnLo_"
      },
      "source": [
        "### Premier code de Python :\n",
        "\n",
        "Utiliser la fonction \"print()\" pour afficher le texte \"Hello world\"."
      ]
    },
    {
      "cell_type": "code",
      "execution_count": 1,
      "metadata": {
        "id": "6acDX_-_nLpC",
        "outputId": "c1fb2ede-b73f-4a23-fc21-e63800c3afcb",
        "colab": {
          "base_uri": "https://localhost:8080/"
        }
      },
      "outputs": [
        {
          "output_type": "stream",
          "name": "stdout",
          "text": [
            "__hello world___\n"
          ]
        }
      ],
      "source": [
        "# Premier script : \"Hello world\"\n",
        "print(\"__hello world___\")"
      ]
    },
    {
      "cell_type": "markdown",
      "metadata": {
        "id": "u8mSrLqxnLpE"
      },
      "source": [
        "### Variables et types de données :\n"
      ]
    },
    {
      "cell_type": "code",
      "execution_count": 6,
      "metadata": {
        "id": "QBu-r7EFnLpF"
      },
      "outputs": [],
      "source": [
        "# Initialiser des données\n",
        "\n",
        "x = 2    # Remplacer par une valeur entière (integer)\n",
        "y = 0.5    # Remplacer par une valeur décimale (float)\n",
        "z = \" Python \"  # Remplacer par une chaîne de caractères. Par exemple \"Python\""
      ]
    },
    {
      "cell_type": "markdown",
      "metadata": {
        "id": "PJc99DALnLpG"
      },
      "source": [
        "Maintenant vérifions le type de ces variables à l'aide de la fonction \"type()\""
      ]
    },
    {
      "cell_type": "code",
      "execution_count": 7,
      "metadata": {
        "id": "WDrvtjv2nLpG",
        "outputId": "534b3bf0-3ff4-4814-bbe2-8c4739aa5164",
        "colab": {
          "base_uri": "https://localhost:8080/"
        }
      },
      "outputs": [
        {
          "output_type": "stream",
          "name": "stdout",
          "text": [
            "<class 'int'>\n",
            "<class 'float'>\n",
            "<class 'str'>\n"
          ]
        }
      ],
      "source": [
        "# Comment vérifier le type ?\n",
        "print(type(x))  # Affiche le type de x\n",
        "print(type(y))  # Affiche le type de y\n",
        "print(type(z))  # Affiche le type de z"
      ]
    },
    {
      "cell_type": "markdown",
      "metadata": {
        "id": "T1V0f27onLpH"
      },
      "source": [
        "### Opérations arithmétiques :"
      ]
    },
    {
      "cell_type": "code",
      "execution_count": 9,
      "metadata": {
        "id": "iXXDA3-JnLpI"
      },
      "outputs": [],
      "source": [
        "a = 9  # Remplacer par une valeur entière\n",
        "b = 7  # Remplacer par une valeur entière"
      ]
    },
    {
      "cell_type": "code",
      "execution_count": 10,
      "metadata": {
        "id": "Is2kTg-7nLpI"
      },
      "outputs": [],
      "source": [
        "# Opérations arithmétiques\n",
        "addition = a + b  # Calcul de l'addition\n",
        "soustraction = a - b  # Calcul de la soustraction entre a et b\n",
        "multiplication = a * b  # Calcul de la multiplication entre a et b\n",
        "division = a/b  # Calcul de la division de a par b"
      ]
    },
    {
      "cell_type": "code",
      "execution_count": 12,
      "metadata": {
        "id": "n7_BQYBanLpJ",
        "outputId": "2db12faa-cb79-44a1-9699-bed294137146",
        "colab": {
          "base_uri": "https://localhost:8080/"
        }
      },
      "outputs": [
        {
          "output_type": "stream",
          "name": "stdout",
          "text": [
            "Addition: 16\n",
            "Soustraction: 2\n",
            "Multiplication: 63\n",
            "Division: 1.2857142857142858\n"
          ]
        }
      ],
      "source": [
        "# Afficher les résultats\n",
        "print(\"Addition:\", a + b )\n",
        "print(\"Soustraction:\", a - b )\n",
        "print(\"Multiplication:\", a * b )\n",
        "print(\"Division:\", a/b )\n"
      ]
    },
    {
      "cell_type": "markdown",
      "metadata": {
        "id": "VXsb00dpnLpJ"
      },
      "source": [
        "### Calcul d'émissions de CO2 :"
      ]
    },
    {
      "cell_type": "code",
      "execution_count": 13,
      "metadata": {
        "id": "o-v8FPXOnLpJ"
      },
      "outputs": [],
      "source": [
        "# Données\n",
        "distance_km = 7  # Distance parcourue en kilomètres\n",
        "consommation_essence_litres_km = 3  # Consommation d'essence en litres par km"
      ]
    },
    {
      "cell_type": "code",
      "execution_count": 14,
      "metadata": {
        "id": "WvCqQV44nLpK"
      },
      "outputs": [],
      "source": [
        "# Calcul des émissions de CO2 en kilogrammes\n",
        "# Le facteur 2,3 est une estimation générale de la quantité de dioxyde de carbone (CO2) émise en kilogrammes par litre de carburant brûlé.\n",
        "# Il est utilisé pour convertir la consommation d'essence en émissions de CO2.\n",
        "emissions_CO2_kg = ( distance_km* consommation_essence_litres_km ) * 2.3"
      ]
    },
    {
      "cell_type": "code",
      "execution_count": 15,
      "metadata": {
        "id": "bGnGt39ynLpK",
        "outputId": "48b1be3c-4dbb-4280-f202-86639ae9875c",
        "colab": {
          "base_uri": "https://localhost:8080/"
        }
      },
      "outputs": [
        {
          "output_type": "stream",
          "name": "stdout",
          "text": [
            "Les émissions de CO2 pour 7 km parcourus sont de 3 grammes.\n"
          ]
        }
      ],
      "source": [
        "# Afficher le résultat\n",
        "print(\"Les émissions de CO2 pour\", distance_km, \"km parcourus sont de\", consommation_essence_litres_km, \"grammes.\")"
      ]
    },
    {
      "cell_type": "markdown",
      "metadata": {
        "id": "q-bZszADnLpK"
      },
      "source": [
        "### Calcul de la consommation d'énergie"
      ]
    },
    {
      "cell_type": "code",
      "execution_count": 18,
      "metadata": {
        "id": "XtXC6cGUnLpK"
      },
      "outputs": [],
      "source": [
        "# Données\n",
        "puissance_appareil = 8000  # Puissance de l'appareil en watts\n",
        "temps_utilisation_heures = 2  # Temps d'utilisation en heures par jour"
      ]
    },
    {
      "cell_type": "code",
      "execution_count": 19,
      "metadata": {
        "id": "_V2F75BWnLpL"
      },
      "outputs": [],
      "source": [
        "# Calcul de la consommation d'énergie quotidienne en kilowatt-heures (kWh)\n",
        "# La division par 1000 est nécessaire pour convertir la puissance de l'appareil (exprimée en watts) en kilowatts,\n",
        "# car 1 kilowatt équivaut à 1000 watts.\n",
        "consommation_quotidienne_kWh = ( puissance_appareil * temps_utilisation_heures ) / 1000"
      ]
    },
    {
      "cell_type": "code",
      "execution_count": 20,
      "metadata": {
        "id": "gbXyVo-ZnLpL",
        "outputId": "0b6fca98-a276-45cd-b912-96a48723f05e",
        "colab": {
          "base_uri": "https://localhost:8080/"
        }
      },
      "outputs": [
        {
          "output_type": "stream",
          "name": "stdout",
          "text": [
            "La consommation d'énergie quotidienne de l'appareil est de 16.0 kWh.\n"
          ]
        }
      ],
      "source": [
        "# Afficher le résultat\n",
        "print(\"La consommation d'énergie quotidienne de l'appareil est de\", consommation_quotidienne_kWh, \"kWh.\")"
      ]
    },
    {
      "cell_type": "code",
      "source": [],
      "metadata": {
        "id": "If3z76f5-BZp"
      },
      "execution_count": null,
      "outputs": []
    }
  ],
  "metadata": {
    "colab": {
      "provenance": [],
      "include_colab_link": true
    },
    "language_info": {
      "name": "python"
    },
    "kernelspec": {
      "name": "python3",
      "display_name": "Python 3"
    }
  },
  "nbformat": 4,
  "nbformat_minor": 0
}